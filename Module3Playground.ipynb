{
 "cells": [
  {
   "cell_type": "code",
   "execution_count": 39,
   "id": "b3d1cb78",
   "metadata": {},
   "outputs": [],
   "source": [
    "import random\n",
    "import matplotlib.pyplot as plt"
   ]
  },
  {
   "cell_type": "code",
   "execution_count": 40,
   "id": "6d0d03e8",
   "metadata": {},
   "outputs": [
    {
     "name": "stdout",
     "output_type": "stream",
     "text": [
      "7434475\n"
     ]
    }
   ],
   "source": [
    "y = ''\n",
    "for i in range(7):\n",
    "    x = str(random.randint(0, 7))\n",
    "    y = y + x\n",
    "print(y)"
   ]
  },
  {
   "cell_type": "code",
   "execution_count": 41,
   "id": "063c9e50",
   "metadata": {},
   "outputs": [
    {
     "name": "stdout",
     "output_type": "stream",
     "text": [
      "7434475\n",
      "{1: 4.25, 2: 2.5, 3: 2.0, 4: 1.25, 5: 1.5, 6: 1.75, 7: 3.75}\n",
      "14.75\n"
     ]
    }
   ],
   "source": [
    "print(y)\n",
    "items = {1: 4.25, 2: 2.50, 3: 2.00, 4: 1.25, 5: 1.50, 6: 1.75, 7: 3.75}\n",
    "print(items)\n",
    "cost = 0\n",
    "for i in y:\n",
    "    i = int(i)\n",
    "    if i in items:\n",
    "        cost = cost + items[i]\n",
    "print(cost)"
   ]
  },
  {
   "cell_type": "code",
   "execution_count": 42,
   "id": "8b274c90",
   "metadata": {},
   "outputs": [
    {
     "name": "stdout",
     "output_type": "stream",
     "text": [
      "{7: 2, 4: 3, 3: 1, 5: 1}\n",
      "17.405\n"
     ]
    }
   ],
   "source": [
    "# combo1 = [1, 2]\n",
    "# drinks = [4, 5, 6]\n",
    "# int1 = str(y)\n",
    "# for i in combo1:\n",
    "#     if i in int1:\n",
    "y = [int(i) for i in y]\n",
    "dict_count = {}\n",
    "for i in y:\n",
    "    if i in dict_count:\n",
    "        dict_count[i] += 1\n",
    "    else:\n",
    "        dict_count[i] = 1\n",
    "print(dict_count)\n",
    "if dict_count.get(1)!=None and dict_count.get(2)!=None and dict_count.get(7)!=None:\n",
    "    if dict_count.get(4)!=None or dict_count.get(5)!=None or dict_count.get(6)!=None:\n",
    "        cost = cost - (0.35*cost)\n",
    "        total_cost = cost + (0.18*cost)\n",
    "    else:\n",
    "        total_cost = cost + (0.18*cost)\n",
    "elif dict_count.get(1)!=None and dict_count.get(3)!=None:\n",
    "    if dict_count.get(4)!=None or dict_count.get(5)!=None or dict_count.get(6)!=None:\n",
    "        cost = cost - (0.2*cost)\n",
    "        total_cost = cost + (0.18*cost)\n",
    "    else:\n",
    "        total_cost = cost + (0.18*cost)\n",
    "else:\n",
    "    total_cost = cost + (0.18*cost)\n",
    "print(total_cost)"
   ]
  },
  {
   "cell_type": "code",
   "execution_count": 43,
   "id": "a6c51f70",
   "metadata": {},
   "outputs": [],
   "source": [
    "def simulate_restaurant():\n",
    "    items = {1: 4.25, 2: 2.50, 3: 2.00, 4: 1.25, 5: 1.50, 6: 1.75, 7: 3.75}\n",
    "    profit_list = []\n",
    "    for i in range(30):\n",
    "        n = random.randint(20,50)\n",
    "        profit = 0\n",
    "        for j in range(n):\n",
    "            y = ''\n",
    "            for i in range(7):\n",
    "                x = str(random.randint(0, 7))\n",
    "                y = y + x\n",
    "            cost = 0\n",
    "            for i in y:\n",
    "                i = int(i)\n",
    "                if i in items:\n",
    "                    cost = cost + items[i]\n",
    "            y = [int(i) for i in y]\n",
    "            dict_count = {}\n",
    "            for i in y:\n",
    "                if i in dict_count:\n",
    "                    dict_count[i] += 1\n",
    "                else:\n",
    "                    dict_count[i] = 1\n",
    "            if dict_count.get(1)!=None and dict_count.get(2)!=None and dict_count.get(7)!=None:\n",
    "                if dict_count.get(4)!=None or dict_count.get(5)!=None or dict_count.get(6)!=None:\n",
    "                    cost = cost - (0.35*cost)\n",
    "                    total_cost = cost + (0.18*cost)\n",
    "                else:\n",
    "                    total_cost = cost + (0.18*cost)\n",
    "            elif dict_count.get(1)!=None and dict_count.get(3)!=None:\n",
    "                if dict_count.get(4)!=None or dict_count.get(5)!=None or dict_count.get(6)!=None:\n",
    "                    cost = cost - (0.2*cost)\n",
    "                    total_cost = cost + (0.18*cost)\n",
    "                else:\n",
    "                    total_cost = cost + (0.18*cost)\n",
    "            else:\n",
    "                total_cost = cost + (0.18*cost)\n",
    "            profit = profit + total_cost\n",
    "        profit_list.append(profit)\n",
    "    print(profit_list)\n",
    "    plt.plot(profit_list)\n",
    "    plt.show()"
   ]
  },
  {
   "cell_type": "code",
   "execution_count": 44,
   "id": "48cd7fdf",
   "metadata": {},
   "outputs": [
    {
     "name": "stdout",
     "output_type": "stream",
     "text": [
      "[745.2142499999999, 565.0725000000001, 361.68475000000007, 739.2405, 557.8449999999999, 749.9047500000001, 294.6165, 395.40325000000007, 828.3894999999999, 395.064, 737.1607500000002, 392.73350000000005, 647.1415000000002, 379.63550000000004, 406.5837499999999, 362.52549999999997, 456.3502500000001, 483.19525, 471.0117499999999, 597.7437500000001, 711.6137500000001, 460.8785, 367.08325, 719.1214999999999, 445.74499999999995, 779.9947500000001, 290.76675, 401.15574999999995, 656.6405, 730.9215000000003]\n"
     ]
    },
    {
     "data": {
      "image/png": "[encoded data removed]",
      "text/plain": [
       "<Figure size 432x288 with 1 Axes>"
      ]
     },
     "metadata": {
      "needs_background": "light"
     },
     "output_type": "display_data"
    }
   ],
   "source": [
    "simulate_restaurant()"
   ]
  }
 ],
 "metadata": {
  "kernelspec": {
   "display_name": "Python 3 (ipykernel)",
   "language": "python",
   "name": "python3"
  },
  "language_info": {
   "codemirror_mode": {
    "name": "ipython",
    "version": 3
   },
   "file_extension": ".py",
   "mimetype": "text/x-python",
   "name": "python",
   "nbconvert_exporter": "python",
   "pygments_lexer": "ipython3",
   "version": "3.10.5"
  }
 },
 "nbformat": 4,
 "nbformat_minor": 5
}
