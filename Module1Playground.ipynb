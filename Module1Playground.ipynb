{
 "cells": [
  {
   "cell_type": "markdown",
   "id": "4f1ab1a0",
   "metadata": {},
   "source": [
    "Q1 - Prints the following pattern for `n` rows:\n",
    "\n",
    "        1\n",
    "        1 2\n",
    "        1 2 3\n",
    "        ...\n",
    "        1 2 3 ... n"
   ]
  },
  {
   "cell_type": "code",
   "execution_count": 62,
   "id": "2477287f",
   "metadata": {},
   "outputs": [],
   "source": [
    "def number_pattern(n):\n",
    "    i = 1\n",
    "    while i <= n:\n",
    "        j = 1\n",
    "        while j <= i:\n",
    "            print(j, end=' ')\n",
    "            j = j + 1\n",
    "        print()\n",
    "        i = i + 1"
   ]
  },
  {
   "cell_type": "code",
   "execution_count": 63,
   "id": "5d81fe0d",
   "metadata": {},
   "outputs": [
    {
     "name": "stdout",
     "output_type": "stream",
     "text": [
      "1 \n",
      "1 2 \n",
      "1 2 3 \n",
      "1 2 3 4 \n",
      "1 2 3 4 5 \n"
     ]
    }
   ],
   "source": [
    "number_pattern(5)"
   ]
  },
  {
   "cell_type": "markdown",
   "id": "7e8294c2",
   "metadata": {},
   "source": [
    "Q2 - Prints the following `n` times:\n",
    "\n",
    "        *\n",
    "        00\n",
    "        ***\n",
    "        0000\n",
    "        *****\n",
    "        0000\n",
    "        ***\n",
    "        00\n",
    "        *\n",
    "\n",
    "        Example\n",
    "        -------\n",
    "        n = 2\n",
    "        \n",
    "        *\n",
    "        00\n",
    "        ***\n",
    "        0000\n",
    "        *****\n",
    "        0000\n",
    "        ***\n",
    "        00\n",
    "        *\n",
    "        00\n",
    "        ***\n",
    "        0000\n",
    "        *****\n",
    "        0000\n",
    "        ***\n",
    "        00\n",
    "        *"
   ]
  },
  {
   "cell_type": "code",
   "execution_count": 64,
   "id": "57ddf43b",
   "metadata": {},
   "outputs": [],
   "source": [
    "def zero_pattern(n):\n",
    "    i = 1\n",
    "    while i <= 5:\n",
    "        j = 1\n",
    "        while j <= i:\n",
    "            if i % 2 == 0:\n",
    "                print(\"0\",end='')\n",
    "            else:\n",
    "                print(\"*\",end='')\n",
    "            j = j + 1\n",
    "        print()\n",
    "        i = i + 1\n",
    "    i = 4\n",
    "    while i >= 1:\n",
    "        j = i\n",
    "        while j >= 1:\n",
    "            if i % 2 == 0:\n",
    "                print(\"0\", end='')\n",
    "            else:\n",
    "                print(\"*\", end='')\n",
    "            j = j - 1\n",
    "        print()\n",
    "        i = i - 1\n",
    "    if n > 1:\n",
    "        while n>1:\n",
    "            i = 2\n",
    "            while i <= 5:\n",
    "                j = 1\n",
    "                while j <= i:\n",
    "                    if i % 2 == 0:\n",
    "                        print(\"0\",end='')\n",
    "                    else:\n",
    "                        print(\"*\",end='')\n",
    "                    j = j + 1\n",
    "                print()\n",
    "                i = i + 1\n",
    "            i = 4\n",
    "            while i >= 1:\n",
    "                j = i\n",
    "                while j >= 1:\n",
    "                    if i % 2 == 0:\n",
    "                        print(\"0\", end='')\n",
    "                    else:\n",
    "                        print(\"*\", end='')\n",
    "                    j = j - 1\n",
    "                print()\n",
    "                i = i - 1\n",
    "            n = n - 1    "
   ]
  },
  {
   "cell_type": "code",
   "execution_count": 65,
   "id": "c20de705",
   "metadata": {},
   "outputs": [
    {
     "name": "stdout",
     "output_type": "stream",
     "text": [
      "*\n",
      "00\n",
      "***\n",
      "0000\n",
      "*****\n",
      "0000\n",
      "***\n",
      "00\n",
      "*\n",
      "00\n",
      "***\n",
      "0000\n",
      "*****\n",
      "0000\n",
      "***\n",
      "00\n",
      "*\n"
     ]
    }
   ],
   "source": [
    "zero_pattern(2)"
   ]
  },
  {
   "cell_type": "markdown",
   "id": "42fe24b7",
   "metadata": {},
   "source": [
    "Q3 - Consider `k` where k = i*sin^i(x) + i*cos^i(x), 1 <= i <= n. Print `int(k)` $ symbols for all `i` from 1 to `n`. If k < 1, print 1 $ symbol.\n",
    "        \n",
    "Example\n",
    "-------\n",
    "x = 90, n = 5\n",
    "        \n",
    "$\n",
    "$$\n",
    "$$$\n",
    "$$$$\n",
    "$$$$$"
   ]
  },
  {
   "cell_type": "code",
   "execution_count": 66,
   "id": "41010f70",
   "metadata": {},
   "outputs": [],
   "source": [
    "import math"
   ]
  },
  {
   "cell_type": "code",
   "execution_count": 67,
   "id": "d3d2f444",
   "metadata": {},
   "outputs": [],
   "source": [
    "def trigonometric_pattern(x, n):\n",
    "    x = math.radians(x)\n",
    "    for i in range(1, n+1):\n",
    "        k = i*(math.pow(math.sin(x), i)) + i*(math.pow(math.cos(x), i))\n",
    "        k = int(k)\n",
    "        if k <= 1:\n",
    "            print(\"$\")\n",
    "        else:\n",
    "            while k > 0:\n",
    "                print(\"$\", end='')\n",
    "                k = k - 1\n",
    "            print()"
   ]
  },
  {
   "cell_type": "code",
   "execution_count": 68,
   "id": "37ea26bb",
   "metadata": {},
   "outputs": [
    {
     "name": "stdout",
     "output_type": "stream",
     "text": [
      "$\n",
      "$$\n",
      "$$\n",
      "$$\n",
      "$\n"
     ]
    }
   ],
   "source": [
    "trigonometric_pattern(45, 5)"
   ]
  },
  {
   "cell_type": "markdown",
   "id": "7480ce57",
   "metadata": {},
   "source": [
    "Q4 - Dictionary lookup\n",
    "For all elements in `keys`, print the value associated with them in `dictionary`. Use exception handling to take care of a non-existent key, and print the value associated with `other` instead. Use exception handling."
   ]
  },
  {
   "cell_type": "code",
   "execution_count": 69,
   "id": "59af41ab",
   "metadata": {},
   "outputs": [],
   "source": [
    "dictionary = {'ant': 2, 'dog': 12, 'duck': 20, 'hen': 11, 'other': 99}"
   ]
  },
  {
   "cell_type": "code",
   "execution_count": 70,
   "id": "72c17824",
   "metadata": {},
   "outputs": [],
   "source": [
    "keys = ['ant', 'cat', 'duck', 'hen', 'lion', 'zebra']"
   ]
  },
  {
   "cell_type": "code",
   "execution_count": 71,
   "id": "f15c05d0",
   "metadata": {},
   "outputs": [
    {
     "name": "stdout",
     "output_type": "stream",
     "text": [
      "2\n",
      "99\n",
      "20\n",
      "11\n",
      "99\n",
      "99\n"
     ]
    }
   ],
   "source": [
    "for j in keys:\n",
    "    try:\n",
    "        print(dictionary[j])\n",
    "    except:\n",
    "        print(dictionary[\"other\"])        "
   ]
  },
  {
   "cell_type": "markdown",
   "id": "b7cd3835",
   "metadata": {},
   "source": [
    "Q5 - Round off values in `data` below the mean to 0, and those above the mean to 1,and return the list of rounded values. Do not use looping statements. Use map() and lambda."
   ]
  },
  {
   "cell_type": "code",
   "execution_count": 72,
   "id": "36817975",
   "metadata": {},
   "outputs": [],
   "source": [
    "data = [0.00, 0.12, 0.24, 0.36, 0.48, 0.52, 0.65, 0.50, 0.11, 0.09]"
   ]
  },
  {
   "cell_type": "code",
   "execution_count": 73,
   "id": "ba80bc7f",
   "metadata": {},
   "outputs": [],
   "source": [
    "from functools import reduce\n",
    "import math"
   ]
  },
  {
   "cell_type": "code",
   "execution_count": 74,
   "id": "397cb84c",
   "metadata": {},
   "outputs": [],
   "source": [
    "def round_off(data):\n",
    "    sum = reduce(lambda x, y: x + y, data)\n",
    "    mean = sum/len(data)\n",
    "    t = map(lambda a : 0 if (a < mean) else 1, data)\n",
    "    p = list(t)\n",
    "    return p"
   ]
  },
  {
   "cell_type": "code",
   "execution_count": 75,
   "id": "5f1c3e02",
   "metadata": {},
   "outputs": [],
   "source": [
    "#2nd method\n",
    "# def round_off(data):\n",
    "#     mean = sum(data)/len(data)\n",
    "#     t = map(lambda a : 0 if (a < mean) else 1, data)\n",
    "#     p = list(t)\n",
    "#     return p    "
   ]
  },
  {
   "cell_type": "code",
   "execution_count": 76,
   "id": "c24672ae",
   "metadata": {},
   "outputs": [
    {
     "name": "stdout",
     "output_type": "stream",
     "text": [
      "[0, 0, 0, 1, 1, 1, 1, 1, 0, 0]\n"
     ]
    }
   ],
   "source": [
    "f = round_off(data)\n",
    "print(f)"
   ]
  },
  {
   "cell_type": "markdown",
   "id": "9c461319",
   "metadata": {},
   "source": [
    "Q6 - Return a list of all perfect squares less than `n`, using list comprehension."
   ]
  },
  {
   "cell_type": "code",
   "execution_count": 77,
   "id": "e774a545",
   "metadata": {},
   "outputs": [],
   "source": [
    "from math import sqrt"
   ]
  },
  {
   "cell_type": "code",
   "execution_count": 78,
   "id": "ac4245d7",
   "metadata": {},
   "outputs": [],
   "source": [
    "def perfect_squares(n):\n",
    "    n_sqrt = int(sqrt(n))\n",
    "    l = [x*x for x in range(n_sqrt)]\n",
    "    return l"
   ]
  },
  {
   "cell_type": "code",
   "execution_count": 79,
   "id": "aa322ee0",
   "metadata": {},
   "outputs": [
    {
     "name": "stdout",
     "output_type": "stream",
     "text": [
      "[0, 1, 4, 9, 16]\n"
     ]
    }
   ],
   "source": [
    "m = perfect_squares(25)\n",
    "print(m)"
   ]
  }
 ],
 "metadata": {
  "kernelspec": {
   "display_name": "Python 3 (ipykernel)",
   "language": "python",
   "name": "python3"
  },
  "language_info": {
   "codemirror_mode": {
    "name": "ipython",
    "version": 3
   },
   "file_extension": ".py",
   "mimetype": "text/x-python",
   "name": "python",
   "nbconvert_exporter": "python",
   "pygments_lexer": "ipython3",
   "version": "3.10.5"
  }
 },
 "nbformat": 4,
 "nbformat_minor": 5
}
